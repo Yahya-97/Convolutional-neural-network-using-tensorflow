{
 "cells": [
  {
   "cell_type": "code",
   "execution_count": 1,
   "id": "economic-matthew",
   "metadata": {},
   "outputs": [],
   "source": [
    "import os\n",
    "\n",
    "# Directory with our training horse pictures\n",
    "train_horse_dir = os.path.join('../horse-or-human/horses/')\n",
    "\n",
    "# Directory with our training human pictures\n",
    "train_human_dir = os.path.join('../horse-or-human/humans')\n",
    "\n",
    "# Directory with our training horse pictures\n",
    "validation_horse_dir = os.path.join('../validation-horse-or-human/horses/')\n",
    "\n",
    "# Directory with our training human pictures\n",
    "validation_human_dir = os.path.join('../validation-horse-or-human/humans')"
   ]
  },
  {
   "cell_type": "code",
   "execution_count": 2,
   "id": "clear-growing",
   "metadata": {},
   "outputs": [],
   "source": [
    "train_horse_names = os.listdir(train_horse_dir)\n",
    "train_human_names = os.listdir(train_human_dir)\n",
    "\n",
    "validation_horse_hames = os.listdir(validation_horse_dir)\n",
    "validation_human_names = os.listdir(validation_human_dir)"
   ]
  },
  {
   "cell_type": "code",
   "execution_count": 3,
   "id": "miniature-desktop",
   "metadata": {},
   "outputs": [],
   "source": [
    "import tensorflow as tf"
   ]
  },
  {
   "cell_type": "code",
   "execution_count": 4,
   "id": "postal-cycling",
   "metadata": {},
   "outputs": [],
   "source": [
    "model = tf.keras.models.Sequential([\n",
    "    # Note the input shape is the desired size of the image 150x150 with 3 bytes color\n",
    "    # This is the first convolution\n",
    "    tf.keras.layers.Conv2D(64, (3,3), activation='relu', input_shape=(200, 200, 3)),\n",
    "    tf.keras.layers.MaxPooling2D(2, 2),\n",
    "    # The second convolution\n",
    "    tf.keras.layers.Conv2D(64, (3,3), activation='relu'),\n",
    "    tf.keras.layers.MaxPooling2D(2,2),\n",
    "    # The third convolution\n",
    "    tf.keras.layers.Conv2D(64, (3,3), activation='relu'),\n",
    "    tf.keras.layers.MaxPooling2D(2,2),\n",
    "    # The fourth convolution\n",
    "    #tf.keras.layers.Conv2D(64, (3,3), activation='relu'),\n",
    "    #tf.keras.layers.MaxPooling2D(2,2),\n",
    "    # The fifth convolution\n",
    "    #tf.keras.layers.Conv2D(64, (3,3), activation='relu'),\n",
    "    #tf.keras.layers.MaxPooling2D(2,2),\n",
    "    # Flatten the results to feed into a DNN\n",
    "    tf.keras.layers.Flatten(),\n",
    "    # 512 neuron hidden layer\n",
    "    tf.keras.layers.Dense(512, activation='relu'),\n",
    "    # Only 1 output neuron. It will contain a value from 0-1 where 0 for 1 class ('horses') and 1 for the other ('humans')\n",
    "    tf.keras.layers.Dense(1, activation='sigmoid')\n",
    "])"
   ]
  },
  {
   "cell_type": "code",
   "execution_count": 5,
   "id": "acknowledged-constitution",
   "metadata": {},
   "outputs": [
    {
     "name": "stdout",
     "output_type": "stream",
     "text": [
      "Model: \"sequential\"\n",
      "_________________________________________________________________\n",
      "Layer (type)                 Output Shape              Param #   \n",
      "=================================================================\n",
      "conv2d (Conv2D)              (None, 198, 198, 64)      1792      \n",
      "_________________________________________________________________\n",
      "max_pooling2d (MaxPooling2D) (None, 99, 99, 64)        0         \n",
      "_________________________________________________________________\n",
      "conv2d_1 (Conv2D)            (None, 97, 97, 64)        36928     \n",
      "_________________________________________________________________\n",
      "max_pooling2d_1 (MaxPooling2 (None, 48, 48, 64)        0         \n",
      "_________________________________________________________________\n",
      "conv2d_2 (Conv2D)            (None, 46, 46, 64)        36928     \n",
      "_________________________________________________________________\n",
      "max_pooling2d_2 (MaxPooling2 (None, 23, 23, 64)        0         \n",
      "_________________________________________________________________\n",
      "flatten (Flatten)            (None, 33856)             0         \n",
      "_________________________________________________________________\n",
      "dense (Dense)                (None, 512)               17334784  \n",
      "_________________________________________________________________\n",
      "dense_1 (Dense)              (None, 1)                 513       \n",
      "=================================================================\n",
      "Total params: 17,410,945\n",
      "Trainable params: 17,410,945\n",
      "Non-trainable params: 0\n",
      "_________________________________________________________________\n"
     ]
    }
   ],
   "source": [
    "model.summary()"
   ]
  },
  {
   "cell_type": "code",
   "execution_count": 6,
   "id": "angry-spanish",
   "metadata": {},
   "outputs": [],
   "source": [
    "\n",
    "model.compile(loss='binary_crossentropy',\n",
    "              optimizer='adam',\n",
    "              metrics=['accuracy'])"
   ]
  },
  {
   "cell_type": "code",
   "execution_count": 7,
   "id": "increased-position",
   "metadata": {},
   "outputs": [
    {
     "name": "stdout",
     "output_type": "stream",
     "text": [
      "Found 1027 images belonging to 2 classes.\n",
      "Found 1027 images belonging to 2 classes.\n"
     ]
    }
   ],
   "source": [
    "from tensorflow.keras.preprocessing.image import ImageDataGenerator\n",
    "\n",
    "# All images will be rescaled by 1./255\n",
    "# train_datagen = ImageDataGenerator(rescale=1/255)\n",
    "train_datagen = ImageDataGenerator(\n",
    "      rescale=1./255,\n",
    "      rotation_range=40,\n",
    "      width_shift_range=0.2,\n",
    "      height_shift_range=0.2,\n",
    "      shear_range=0.2,\n",
    "      zoom_range=0.2,\n",
    "      horizontal_flip=True,\n",
    "      fill_mode='nearest')\n",
    "validation_datagen = ImageDataGenerator(rescale=1/255)\n",
    "\n",
    "# Flow training images in batches of 128 using train_datagen generator\n",
    "train_generator = train_datagen.flow_from_directory(\n",
    "        '../horse-or-human/',  # This is the source directory for training images\n",
    "        target_size=(200, 200),  # All images will be resized to 150x150\n",
    "        batch_size=128,\n",
    "        # Since we use binary_crossentropy loss, we need binary labels\n",
    "        class_mode='binary')\n",
    "\n",
    "# Flow training images in batches of 128 using train_datagen generator\n",
    "validation_generator = validation_datagen.flow_from_directory(\n",
    "        '../validation-horse-or-human/',  # This is the source directory for training images\n",
    "        target_size=(200, 200),  # All images will be resized to 150x150\n",
    "        batch_size=32,\n",
    "        # Since we use binary_crossentropy loss, we need binary labels\n",
    "        class_mode='binary')"
   ]
  },
  {
   "cell_type": "code",
   "execution_count": 8,
   "id": "eligible-alpha",
   "metadata": {},
   "outputs": [
    {
     "name": "stdout",
     "output_type": "stream",
     "text": [
      "Epoch 1/30\n",
      "8/8 [==============================] - 81s 9s/step - loss: 1.4040 - accuracy: 0.5307 - val_loss: 0.6351 - val_accuracy: 0.6367\n",
      "Epoch 2/30\n",
      "8/8 [==============================] - 77s 9s/step - loss: 0.6400 - accuracy: 0.6326 - val_loss: 0.6534 - val_accuracy: 0.5508\n",
      "Epoch 3/30\n",
      "8/8 [==============================] - 76s 9s/step - loss: 0.6368 - accuracy: 0.6489 - val_loss: 0.5064 - val_accuracy: 0.8555\n",
      "Epoch 4/30\n",
      "8/8 [==============================] - 77s 9s/step - loss: 0.5967 - accuracy: 0.7243 - val_loss: 0.3664 - val_accuracy: 0.8633\n",
      "Epoch 5/30\n",
      "8/8 [==============================] - 76s 9s/step - loss: 0.6095 - accuracy: 0.6951 - val_loss: 0.4488 - val_accuracy: 0.8125\n",
      "Epoch 6/30\n",
      "8/8 [==============================] - 77s 9s/step - loss: 0.5710 - accuracy: 0.7203 - val_loss: 0.2544 - val_accuracy: 0.9297\n",
      "Epoch 7/30\n",
      "8/8 [==============================] - 77s 9s/step - loss: 0.4526 - accuracy: 0.7840 - val_loss: 0.1732 - val_accuracy: 0.9570\n",
      "Epoch 8/30\n",
      "8/8 [==============================] - 76s 9s/step - loss: 0.4017 - accuracy: 0.8361 - val_loss: 0.2073 - val_accuracy: 0.9336\n",
      "Epoch 9/30\n",
      "8/8 [==============================] - 76s 9s/step - loss: 0.3690 - accuracy: 0.8395 - val_loss: 0.2210 - val_accuracy: 0.8945\n",
      "Epoch 10/30\n",
      "8/8 [==============================] - 77s 9s/step - loss: 0.4524 - accuracy: 0.7789 - val_loss: 0.2499 - val_accuracy: 0.9180\n",
      "Epoch 11/30\n",
      "8/8 [==============================] - 76s 9s/step - loss: 0.4251 - accuracy: 0.7991 - val_loss: 0.2102 - val_accuracy: 0.9141\n",
      "Epoch 12/30\n",
      "8/8 [==============================] - 77s 9s/step - loss: 0.3790 - accuracy: 0.8325 - val_loss: 0.2958 - val_accuracy: 0.8516\n",
      "Epoch 13/30\n",
      "8/8 [==============================] - 77s 9s/step - loss: 0.4701 - accuracy: 0.7841 - val_loss: 0.3049 - val_accuracy: 0.8672\n",
      "Epoch 14/30\n",
      "8/8 [==============================] - 83s 10s/step - loss: 0.4336 - accuracy: 0.7892 - val_loss: 0.1897 - val_accuracy: 0.9336\n",
      "Epoch 15/30\n",
      "8/8 [==============================] - 80s 11s/step - loss: 0.4672 - accuracy: 0.7770 - val_loss: 0.2402 - val_accuracy: 0.9141\n",
      "Epoch 16/30\n",
      "8/8 [==============================] - 77s 9s/step - loss: 0.4256 - accuracy: 0.7963 - val_loss: 0.1770 - val_accuracy: 0.9375\n",
      "Epoch 17/30\n",
      "8/8 [==============================] - 75s 9s/step - loss: 0.2913 - accuracy: 0.8723 - val_loss: 0.1835 - val_accuracy: 0.8867\n",
      "Epoch 18/30\n",
      "8/8 [==============================] - 77s 9s/step - loss: 0.3636 - accuracy: 0.8380 - val_loss: 0.1812 - val_accuracy: 0.9375\n",
      "Epoch 19/30\n",
      "8/8 [==============================] - 76s 9s/step - loss: 0.3386 - accuracy: 0.8351 - val_loss: 0.1807 - val_accuracy: 0.9258\n",
      "Epoch 20/30\n",
      "8/8 [==============================] - 77s 9s/step - loss: 0.2934 - accuracy: 0.8650 - val_loss: 0.0992 - val_accuracy: 0.9609\n",
      "Epoch 21/30\n",
      "8/8 [==============================] - 77s 9s/step - loss: 0.2562 - accuracy: 0.8814 - val_loss: 0.1424 - val_accuracy: 0.9453\n",
      "Epoch 22/30\n",
      "8/8 [==============================] - 76s 9s/step - loss: 0.3192 - accuracy: 0.8504 - val_loss: 0.1330 - val_accuracy: 0.9492\n",
      "Epoch 23/30\n",
      "8/8 [==============================] - 77s 9s/step - loss: 0.1939 - accuracy: 0.9286 - val_loss: 0.2058 - val_accuracy: 0.9180\n",
      "Epoch 24/30\n",
      "8/8 [==============================] - 77s 9s/step - loss: 0.2385 - accuracy: 0.8929 - val_loss: 0.1896 - val_accuracy: 0.9180\n",
      "Epoch 25/30\n",
      "8/8 [==============================] - 76s 9s/step - loss: 0.2167 - accuracy: 0.9107 - val_loss: 0.1155 - val_accuracy: 0.9688\n",
      "Epoch 26/30\n",
      "8/8 [==============================] - 77s 9s/step - loss: 0.2047 - accuracy: 0.9164 - val_loss: 0.0936 - val_accuracy: 0.9805\n",
      "Epoch 27/30\n",
      "8/8 [==============================] - 77s 9s/step - loss: 0.2644 - accuracy: 0.8957 - val_loss: 0.0878 - val_accuracy: 0.9688\n",
      "Epoch 28/30\n",
      "8/8 [==============================] - 77s 9s/step - loss: 0.2045 - accuracy: 0.9105 - val_loss: 0.1773 - val_accuracy: 0.9453\n",
      "Epoch 29/30\n",
      "8/8 [==============================] - 77s 9s/step - loss: 0.2301 - accuracy: 0.8980 - val_loss: 0.1072 - val_accuracy: 0.9492\n",
      "Epoch 30/30\n",
      "8/8 [==============================] - 77s 9s/step - loss: 0.1530 - accuracy: 0.9343 - val_loss: 0.0634 - val_accuracy: 0.9766\n"
     ]
    }
   ],
   "source": [
    "history = model.fit(\n",
    "      train_generator,\n",
    "      steps_per_epoch=8,  \n",
    "      epochs=30,\n",
    "      verbose=1,\n",
    "      validation_data = validation_generator,\n",
    "      validation_steps=8)"
   ]
  },
  {
   "cell_type": "code",
   "execution_count": 2,
   "id": "significant-quality",
   "metadata": {},
   "outputs": [
    {
     "ename": "error",
     "evalue": "OpenCV(4.5.1) /tmp/pip-req-build-7m_g9lbm/opencv/modules/imgproc/src/resize.cpp:4051: error: (-215:Assertion failed) !ssize.empty() in function 'resize'\n",
     "output_type": "error",
     "traceback": [
      "\u001b[0;31m---------------------------------------------------------------------------\u001b[0m",
      "\u001b[0;31merror\u001b[0m                                     Traceback (most recent call last)",
      "\u001b[0;32m<ipython-input-2-36e7ce2d9b29>\u001b[0m in \u001b[0;36m<module>\u001b[0;34m\u001b[0m\n\u001b[1;32m      7\u001b[0m \u001b[0;34m\u001b[0m\u001b[0m\n\u001b[1;32m      8\u001b[0m     \u001b[0mret\u001b[0m\u001b[0;34m,\u001b[0m \u001b[0mframe\u001b[0m \u001b[0;34m=\u001b[0m \u001b[0mcap\u001b[0m\u001b[0;34m.\u001b[0m\u001b[0mread\u001b[0m\u001b[0;34m(\u001b[0m\u001b[0;34m)\u001b[0m\u001b[0;34m\u001b[0m\u001b[0;34m\u001b[0m\u001b[0m\n\u001b[0;32m----> 9\u001b[0;31m     \u001b[0mresized\u001b[0m \u001b[0;34m=\u001b[0m \u001b[0mcv2\u001b[0m\u001b[0;34m.\u001b[0m\u001b[0mresize\u001b[0m\u001b[0;34m(\u001b[0m\u001b[0mframe\u001b[0m\u001b[0;34m,\u001b[0m \u001b[0;34m(\u001b[0m\u001b[0;36m200\u001b[0m\u001b[0;34m,\u001b[0m\u001b[0;36m200\u001b[0m\u001b[0;34m)\u001b[0m\u001b[0;34m,\u001b[0m \u001b[0minterpolation\u001b[0m \u001b[0;34m=\u001b[0m \u001b[0mcv2\u001b[0m\u001b[0;34m.\u001b[0m\u001b[0mINTER_AREA\u001b[0m\u001b[0;34m)\u001b[0m\u001b[0;34m\u001b[0m\u001b[0;34m\u001b[0m\u001b[0m\n\u001b[0m\u001b[1;32m     10\u001b[0m \u001b[0;31m#     faces = faceCascade.detectMultiScale(resized,1.1,1)\u001b[0m\u001b[0;34m\u001b[0m\u001b[0;34m\u001b[0m\u001b[0;34m\u001b[0m\u001b[0m\n\u001b[1;32m     11\u001b[0m \u001b[0;31m#     for (x,y,w,h) in faces :\u001b[0m\u001b[0;34m\u001b[0m\u001b[0;34m\u001b[0m\u001b[0;34m\u001b[0m\u001b[0m\n",
      "\u001b[0;31merror\u001b[0m: OpenCV(4.5.1) /tmp/pip-req-build-7m_g9lbm/opencv/modules/imgproc/src/resize.cpp:4051: error: (-215:Assertion failed) !ssize.empty() in function 'resize'\n"
     ]
    }
   ],
   "source": [
    "import numpy as np\n",
    "import cv2\n",
    "from tensorflow.keras.preprocessing import image\n",
    "cap = cv2.VideoCapture(0)\n",
    "# faceCascade = cv2.CascadeClassifier('/home/yahyaubuntu/Desktop/basicForMl/haarcascade_frontalface_default.xml')\n",
    "while(True):\n",
    "\n",
    "    ret, frame = cap.read()\n",
    "    resized = cv2.resize(frame, (200,200), interpolation = cv2.INTER_AREA)\n",
    "#     faces = faceCascade.detectMultiScale(resized,1.1,1)\n",
    "#     for (x,y,w,h) in faces :\n",
    "#         cv2.rectangle(resized,(x,y),(x+w,y+h),(0,0,255),1)\n",
    "    x = image.img_to_array(resized)\n",
    "    x = np.expand_dims(x, axis=0)\n",
    "\n",
    "    images = np.vstack([x])\n",
    "    classes = model.predict(images, batch_size=10)\n",
    "    print(classes)\n",
    "    if classes[0]>0.5:\n",
    "        print(  \" is a human\")\n",
    "        cv2.putText(resized,str(classes)+'human',(20,20),cv2.FONT_HERSHEY_COMPLEX,0.5,(0,0,255))\n",
    "    else:\n",
    "        print(  \" is a horse\") \n",
    "        cv2.putText(resized,str(classes)+'hourse',(20,20),cv2.FONT_HERSHEY_COMPLEX,0.5,(0,255,0))\n",
    "\n",
    "    cv2.imshow('frame',resized)\n",
    "    if cv2.waitKey(1) & 0xFF == ord('q'):\n",
    "        break\n",
    "cap.release()\n",
    "cv2.destroyAllWindows()  "
   ]
  },
  {
   "cell_type": "code",
   "execution_count": 94,
   "id": "completed-providence",
   "metadata": {},
   "outputs": [],
   "source": [
    "# path = '/home/yahyaubuntu/Desktop/horse-or-human/humans/human01-00.png'\n",
    "# img = image.load_img(path, target_size=(50, 50))\n",
    "# x = image.img_to_array(img)\n",
    "# x = np.expand_dims(x, axis=0)\n",
    "\n",
    "# images = np.vstack([x])\n",
    "# classes = model.predict(images, batch_size=10)\n",
    "# print(classes[0])\n",
    "# if classes[0]>0.5:\n",
    "#     print(  \" is a human\")\n",
    "# else:\n",
    "#     print(  \" is a horse\") "
   ]
  },
  {
   "cell_type": "code",
   "execution_count": null,
   "id": "focal-register",
   "metadata": {},
   "outputs": [],
   "source": [
    "import matplotlib.pyplot as plt\n",
    "import random\n",
    "from tensorflow.keras.preprocessing.image import img_to_array, load_img\n",
    "\n",
    "# Let's define a new Model that will take an image as input, and will output\n",
    "# intermediate representations for all layers in the previous model after\n",
    "# the first.\n",
    "successive_outputs = [layer.output for layer in model.layers[1:]]\n",
    "#visualization_model = Model(img_input, successive_outputs)\n",
    "visualization_model = tf.keras.models.Model(inputs = model.input, outputs = successive_outputs)\n",
    "# Let's prepare a random input image from the training set.\n",
    "horse_img_files = [os.path.join(train_horse_dir, f) for f in train_horse_names]\n",
    "human_img_files = [os.path.join(train_human_dir, f) for f in train_human_names]\n",
    "img_path = random.choice(horse_img_files + human_img_files)\n",
    "\n",
    "img = load_img(img_path, target_size=(150, 150))  # this is a PIL image\n",
    "x = img_to_array(img)  # Numpy array with shape (150, 150, 3)\n",
    "x = x.reshape((1,) + x.shape)  # Numpy array with shape (1, 150, 150, 3)\n",
    "\n",
    "# Rescale by 1/255\n",
    "x /= 255\n",
    "\n",
    "# Let's run our image through our network, thus obtaining all\n",
    "# intermediate representations for this image.\n",
    "successive_feature_maps = visualization_model.predict(x)\n",
    "\n",
    "# These are the names of the layers, so can have them as part of our plot\n",
    "layer_names = [layer.name for layer in model.layers[1:]]\n",
    "\n",
    "# Now let's display our representations\n",
    "for layer_name, feature_map in zip(layer_names, successive_feature_maps):\n",
    "  if len(feature_map.shape) == 4:\n",
    "    # Just do this for the conv / maxpool layers, not the fully-connected layers\n",
    "    n_features = feature_map.shape[-1]  # number of features in feature map\n",
    "    # The feature map has shape (1, size, size, n_features)\n",
    "    size = feature_map.shape[1]\n",
    "    # We will tile our images in this matrix\n",
    "    display_grid = np.zeros((size, size * n_features))\n",
    "    for i in range(n_features):\n",
    "      # Postprocess the feature to make it visually palatable\n",
    "      x = feature_map[0, :, :, i]\n",
    "      x -= x.mean()\n",
    "      x /= x.std()\n",
    "      x *= 64\n",
    "      x += 128\n",
    "      x = np.clip(x, 0, 255).astype('uint8')\n",
    "      # We'll tile each filter into this big horizontal grid\n",
    "      display_grid[:, i * size : (i + 1) * size] = x\n",
    "    # Display the grid\n",
    "    scale = 20. / n_features\n",
    "    plt.figure(figsize=(scale * n_features, scale))\n",
    "    plt.title(layer_name)\n",
    "    plt.grid(False)\n",
    "    plt.imshow(display_grid, aspect='auto', cmap='viridis')"
   ]
  },
  {
   "cell_type": "code",
   "execution_count": 31,
   "id": "dramatic-recognition",
   "metadata": {},
   "outputs": [
    {
     "data": {
      "image/png": "[encoded data removed]",
      "text/plain": [
       "<Figure size 432x288 with 1 Axes>"
      ]
     },
     "metadata": {
      "needs_background": "light"
     },
     "output_type": "display_data"
    },
    {
     "data": {
      "image/png": "[encoded data removed]",
      "text/plain": [
       "<Figure size 432x288 with 1 Axes>"
      ]
     },
     "metadata": {
      "needs_background": "light"
     },
     "output_type": "display_data"
    }
   ],
   "source": [
    "import matplotlib.pyplot as plt\n",
    "acc = history.history['accuracy']\n",
    "val_acc = history.history['val_accuracy']\n",
    "loss = history.history['loss']\n",
    "val_loss = history.history['val_loss']\n",
    "\n",
    "epochs = range(len(acc))\n",
    "\n",
    "plt.plot(epochs, acc, 'bo', label='Training accuracy')\n",
    "plt.plot(epochs, val_acc, 'b', label='Validation accuracy')\n",
    "plt.title('Training and validation accuracy')\n",
    "\n",
    "plt.figure()\n",
    "\n",
    "plt.plot(epochs, loss, 'bo', label='Training Loss')\n",
    "plt.plot(epochs, val_loss, 'b', label='Validation Loss')\n",
    "plt.title('Training and validation loss')\n",
    "plt.legend()\n",
    "\n",
    "plt.show()"
   ]
  },
  {
   "cell_type": "code",
   "execution_count": null,
   "id": "owned-multimedia",
   "metadata": {},
   "outputs": [],
   "source": []
  }
 ],
 "metadata": {
  "kernelspec": {
   "display_name": "Python 3",
   "language": "python",
   "name": "python3"
  },
  "language_info": {
   "codemirror_mode": {
    "name": "ipython",
    "version": 3
   },
   "file_extension": ".py",
   "mimetype": "text/x-python",
   "name": "python",
   "nbconvert_exporter": "python",
   "pygments_lexer": "ipython3",
   "version": "3.7.10"
  }
 },
 "nbformat": 4,
 "nbformat_minor": 5
}
